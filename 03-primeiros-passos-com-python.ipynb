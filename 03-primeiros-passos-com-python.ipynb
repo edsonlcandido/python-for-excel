{
 "cells": [
  {
   "cell_type": "markdown",
   "id": "7a503fe6-fabb-4944-b690-83b58c3af938",
   "metadata": {
    "jp-MarkdownHeadingCollapsed": true
   },
   "source": [
    "## Variaveis"
   ]
  },
  {
   "cell_type": "code",
   "execution_count": 95,
   "id": "5cc866de-64ec-4e82-a3fd-7b9fa182acc3",
   "metadata": {},
   "outputs": [
    {
     "data": {
      "text/plain": [
       "7"
      ]
     },
     "execution_count": 95,
     "metadata": {},
     "output_type": "execute_result"
    }
   ],
   "source": [
    "a =3\n",
    "b=4\n",
    "a+b"
   ]
  },
  {
   "cell_type": "code",
   "execution_count": 96,
   "id": "82228bc2-1c65-467c-a2f3-d22647fb4388",
   "metadata": {},
   "outputs": [
    {
     "name": "stdout",
     "output_type": "stream",
     "text": [
      "3\n",
      "three\n"
     ]
    }
   ],
   "source": [
    "a =3\n",
    "print(a)\n",
    "a = \"three\"\n",
    "print(a)"
   ]
  },
  {
   "cell_type": "markdown",
   "id": "0b3e3555-9fd9-4e99-8bf4-acb53eed4e57",
   "metadata": {
    "jp-MarkdownHeadingCollapsed": true
   },
   "source": [
    "## Tipos Numéricos"
   ]
  },
  {
   "cell_type": "code",
   "execution_count": 98,
   "id": "d6219a69-1bfb-47c9-a073-161102ec9903",
   "metadata": {},
   "outputs": [
    {
     "data": {
      "text/plain": [
       "int"
      ]
     },
     "execution_count": 98,
     "metadata": {},
     "output_type": "execute_result"
    }
   ],
   "source": [
    "type(4)"
   ]
  },
  {
   "cell_type": "code",
   "execution_count": 99,
   "id": "01be3f05-9389-40e1-9bcb-c63bd28d7f3d",
   "metadata": {},
   "outputs": [
    {
     "data": {
      "text/plain": [
       "float"
      ]
     },
     "execution_count": 99,
     "metadata": {},
     "output_type": "execute_result"
    }
   ],
   "source": [
    "type(4.4)"
   ]
  },
  {
   "cell_type": "code",
   "execution_count": 100,
   "id": "89c27bfe-020d-4e18-a89e-a2c56f11d801",
   "metadata": {},
   "outputs": [
    {
     "data": {
      "text/plain": [
       "4"
      ]
     },
     "execution_count": 100,
     "metadata": {},
     "output_type": "execute_result"
    }
   ],
   "source": [
    "int(4.9)"
   ]
  },
  {
   "cell_type": "code",
   "execution_count": 101,
   "id": "283a69a6-ace4-4fbb-ad5b-df363a01317f",
   "metadata": {},
   "outputs": [
    {
     "data": {
      "text/plain": [
       "0.02499999999999991"
      ]
     },
     "execution_count": 101,
     "metadata": {},
     "output_type": "execute_result"
    }
   ],
   "source": [
    "1.125 -1.1"
   ]
  },
  {
   "cell_type": "markdown",
   "id": "4eb0e5c5-543e-4064-9b80-27a9d26dc827",
   "metadata": {
    "jp-MarkdownHeadingCollapsed": true
   },
   "source": [
    "## Operadores matemáticos"
   ]
  },
  {
   "cell_type": "code",
   "execution_count": 103,
   "id": "37acb74a-5a0c-45ce-af05-b0ed332c5ec5",
   "metadata": {},
   "outputs": [
    {
     "data": {
      "text/plain": [
       "7"
      ]
     },
     "execution_count": 103,
     "metadata": {},
     "output_type": "execute_result"
    }
   ],
   "source": [
    "3+4"
   ]
  },
  {
   "cell_type": "code",
   "execution_count": 104,
   "id": "5297d980-2fd8-4109-aa63-ce1b99af9901",
   "metadata": {},
   "outputs": [
    {
     "data": {
      "text/plain": [
       "-1"
      ]
     },
     "execution_count": 104,
     "metadata": {},
     "output_type": "execute_result"
    }
   ],
   "source": [
    "3-4"
   ]
  },
  {
   "cell_type": "code",
   "execution_count": 105,
   "id": "85b0a3d4-3eb0-4970-9796-ba4804bc44c0",
   "metadata": {},
   "outputs": [
    {
     "data": {
      "text/plain": [
       "0.75"
      ]
     },
     "execution_count": 105,
     "metadata": {},
     "output_type": "execute_result"
    }
   ],
   "source": [
    "3/4"
   ]
  },
  {
   "cell_type": "code",
   "execution_count": 106,
   "id": "78d2c9ef-fef0-434d-98dc-3405746998f1",
   "metadata": {},
   "outputs": [
    {
     "data": {
      "text/plain": [
       "12"
      ]
     },
     "execution_count": 106,
     "metadata": {},
     "output_type": "execute_result"
    }
   ],
   "source": [
    "3*4"
   ]
  },
  {
   "cell_type": "code",
   "execution_count": 107,
   "id": "f2ce149e-1893-4a5e-8137-300682ea420a",
   "metadata": {},
   "outputs": [
    {
     "data": {
      "text/plain": [
       "81"
      ]
     },
     "execution_count": 107,
     "metadata": {},
     "output_type": "execute_result"
    }
   ],
   "source": [
    "3**4"
   ]
  },
  {
   "cell_type": "code",
   "execution_count": 108,
   "id": "e70efb60-6cda-4f94-b492-598dc308a5eb",
   "metadata": {},
   "outputs": [
    {
     "data": {
      "text/plain": [
       "21"
      ]
     },
     "execution_count": 108,
     "metadata": {},
     "output_type": "execute_result"
    }
   ],
   "source": [
    "3*(3+4)"
   ]
  },
  {
   "cell_type": "markdown",
   "id": "63ce5a23-9ff4-4cd0-926d-ec14a69718ed",
   "metadata": {
    "jp-MarkdownHeadingCollapsed": true
   },
   "source": [
    "## Comentários"
   ]
  },
  {
   "cell_type": "code",
   "execution_count": 110,
   "id": "cb8dc9a9-b8e5-45af-ae93-0cfc765b85e8",
   "metadata": {},
   "outputs": [
    {
     "data": {
      "text/plain": [
       "7"
      ]
     },
     "execution_count": 110,
     "metadata": {},
     "output_type": "execute_result"
    }
   ],
   "source": [
    "# Esta é uma amostra que já vimos antes.\n",
    "# Cada linha de comentario deve começar com #\n",
    "3+4"
   ]
  },
  {
   "cell_type": "code",
   "execution_count": 111,
   "id": "7526e5a0-20fe-45f8-8f15-36d5dd8fed84",
   "metadata": {},
   "outputs": [
    {
     "data": {
      "text/plain": [
       "7"
      ]
     },
     "execution_count": 111,
     "metadata": {},
     "output_type": "execute_result"
    }
   ],
   "source": [
    "3+4 # Este é um comentário na linha"
   ]
  },
  {
   "cell_type": "markdown",
   "id": "8c122130-03cd-4043-9179-f7f0985b120c",
   "metadata": {
    "jp-MarkdownHeadingCollapsed": true
   },
   "source": [
    "## Booleanos"
   ]
  },
  {
   "cell_type": "code",
   "execution_count": 113,
   "id": "8f477884-826c-4529-974f-8b378486d44e",
   "metadata": {},
   "outputs": [
    {
     "data": {
      "text/plain": [
       "False"
      ]
     },
     "execution_count": 113,
     "metadata": {},
     "output_type": "execute_result"
    }
   ],
   "source": [
    "3 == 4"
   ]
  },
  {
   "cell_type": "code",
   "execution_count": 114,
   "id": "21b2843f-d3fe-497e-9bea-126aedce7c64",
   "metadata": {},
   "outputs": [
    {
     "data": {
      "text/plain": [
       "True"
      ]
     },
     "execution_count": 114,
     "metadata": {},
     "output_type": "execute_result"
    }
   ],
   "source": [
    "3 != 4"
   ]
  },
  {
   "cell_type": "code",
   "execution_count": 115,
   "id": "62afa251-d5f0-47ee-bba6-d6aa5a86e478",
   "metadata": {},
   "outputs": [
    {
     "data": {
      "text/plain": [
       "True"
      ]
     },
     "execution_count": 115,
     "metadata": {},
     "output_type": "execute_result"
    }
   ],
   "source": [
    "3 < 4"
   ]
  },
  {
   "cell_type": "code",
   "execution_count": 116,
   "id": "6bbe298e-9280-4820-af5a-2ac58872b92c",
   "metadata": {},
   "outputs": [
    {
     "data": {
      "text/plain": [
       "True"
      ]
     },
     "execution_count": 116,
     "metadata": {},
     "output_type": "execute_result"
    }
   ],
   "source": [
    "3 <= 4"
   ]
  },
  {
   "cell_type": "code",
   "execution_count": 117,
   "id": "347a190b-deed-4cd7-befb-ef1381672beb",
   "metadata": {},
   "outputs": [
    {
     "data": {
      "text/plain": [
       "True"
      ]
     },
     "execution_count": 117,
     "metadata": {},
     "output_type": "execute_result"
    }
   ],
   "source": [
    "10 < 12 < 17"
   ]
  },
  {
   "cell_type": "code",
   "execution_count": 118,
   "id": "ecf51ecd-50ba-4ed1-a61a-5e6fd55a012b",
   "metadata": {},
   "outputs": [
    {
     "data": {
      "text/plain": [
       "False"
      ]
     },
     "execution_count": 118,
     "metadata": {},
     "output_type": "execute_result"
    }
   ],
   "source": [
    "not True"
   ]
  },
  {
   "cell_type": "code",
   "execution_count": 119,
   "id": "4cce6194-1237-4fbf-be49-fd57dfd00a5f",
   "metadata": {},
   "outputs": [
    {
     "data": {
      "text/plain": [
       "False"
      ]
     },
     "execution_count": 119,
     "metadata": {},
     "output_type": "execute_result"
    }
   ],
   "source": [
    "False and True"
   ]
  },
  {
   "cell_type": "code",
   "execution_count": 120,
   "id": "e5491fee-974a-4fc4-a76b-c01e92b355de",
   "metadata": {},
   "outputs": [
    {
     "data": {
      "text/plain": [
       "True"
      ]
     },
     "execution_count": 120,
     "metadata": {},
     "output_type": "execute_result"
    }
   ],
   "source": [
    "False or True"
   ]
  },
  {
   "cell_type": "code",
   "execution_count": 121,
   "id": "b09650c8-57d4-4571-b3aa-e5f4d5c0da67",
   "metadata": {},
   "outputs": [
    {
     "data": {
      "text/plain": [
       "True"
      ]
     },
     "execution_count": 121,
     "metadata": {},
     "output_type": "execute_result"
    }
   ],
   "source": [
    "bool(2)"
   ]
  },
  {
   "cell_type": "code",
   "execution_count": 122,
   "id": "7d4a0506-03ce-4bce-a6d7-49d2e70ef4c2",
   "metadata": {},
   "outputs": [
    {
     "data": {
      "text/plain": [
       "False"
      ]
     },
     "execution_count": 122,
     "metadata": {},
     "output_type": "execute_result"
    }
   ],
   "source": [
    "bool(0)"
   ]
  },
  {
   "cell_type": "code",
   "execution_count": 123,
   "id": "e686a427-bd85-441b-81da-2650187de354",
   "metadata": {},
   "outputs": [
    {
     "data": {
      "text/plain": [
       "True"
      ]
     },
     "execution_count": 123,
     "metadata": {},
     "output_type": "execute_result"
    }
   ],
   "source": [
    "bool(\"some text\")"
   ]
  },
  {
   "cell_type": "code",
   "execution_count": 124,
   "id": "694e0836-722a-41f3-8248-e14d032b2fb5",
   "metadata": {},
   "outputs": [
    {
     "data": {
      "text/plain": [
       "False"
      ]
     },
     "execution_count": 124,
     "metadata": {},
     "output_type": "execute_result"
    }
   ],
   "source": [
    "bool(\"\")"
   ]
  },
  {
   "cell_type": "code",
   "execution_count": 125,
   "id": "26456e83-f0d7-4ef2-9194-2eb5a595a822",
   "metadata": {},
   "outputs": [
    {
     "data": {
      "text/plain": [
       "False"
      ]
     },
     "execution_count": 125,
     "metadata": {},
     "output_type": "execute_result"
    }
   ],
   "source": [
    "bool(None)"
   ]
  },
  {
   "cell_type": "markdown",
   "id": "0faf9213-eb75-4947-9787-d9d8feafa801",
   "metadata": {
    "jp-MarkdownHeadingCollapsed": true
   },
   "source": [
    "## Strings"
   ]
  },
  {
   "cell_type": "code",
   "execution_count": 127,
   "id": "d36549be-4644-46bb-bd5e-ee842713adb0",
   "metadata": {},
   "outputs": [
    {
     "data": {
      "text/plain": [
       "'Uma string de aspas uma string de aspas simples'"
      ]
     },
     "execution_count": 127,
     "metadata": {},
     "output_type": "execute_result"
    }
   ],
   "source": [
    "\"Uma string de aspas \" + 'uma string de aspas simples'"
   ]
  },
  {
   "cell_type": "code",
   "execution_count": 128,
   "id": "229d0254-4f31-4a8f-83cb-e9c605712bff",
   "metadata": {},
   "outputs": [
    {
     "name": "stdout",
     "output_type": "stream",
     "text": [
      "Don't wait! Learn how to \"speak\" Python.\n"
     ]
    }
   ],
   "source": [
    "print(\"Don't wait! \" + 'Learn how to \"speak\" Python.')"
   ]
  },
  {
   "cell_type": "code",
   "execution_count": 129,
   "id": "5f6ce579-8738-4fff-b1d7-8b43779ad35b",
   "metadata": {},
   "outputs": [
    {
     "name": "stdout",
     "output_type": "stream",
     "text": [
      "Its's easy to \"escape\" characters with a leading \\.\n"
     ]
    }
   ],
   "source": [
    "print(\"Its's easy to \\\"escape\\\" characters with a leading \\\\.\")"
   ]
  },
  {
   "cell_type": "code",
   "execution_count": 130,
   "id": "758b9d2c-5b15-4d55-a16d-72989f2c9c14",
   "metadata": {},
   "outputs": [
    {
     "data": {
      "text/plain": [
       "'Python is free and Open source.'"
      ]
     },
     "execution_count": 130,
     "metadata": {},
     "output_type": "execute_result"
    }
   ],
   "source": [
    "first_adjective, second_adjective = \"free\", \"Open source\"\n",
    "f\"Python is {first_adjective} and {second_adjective}.\""
   ]
  },
  {
   "cell_type": "code",
   "execution_count": 163,
   "id": "4fffbabc-e470-4084-b0b2-3de983377319",
   "metadata": {},
   "outputs": [
    {
     "data": {
      "text/plain": [
       "'python'"
      ]
     },
     "execution_count": 163,
     "metadata": {},
     "output_type": "execute_result"
    }
   ],
   "source": [
    "\"PYTHON\".lower()"
   ]
  },
  {
   "cell_type": "code",
   "execution_count": 165,
   "id": "52ec6edf-b480-4086-8439-81f36c186685",
   "metadata": {},
   "outputs": [
    {
     "data": {
      "text/plain": [
       "'PYTHON'"
      ]
     },
     "execution_count": 165,
     "metadata": {},
     "output_type": "execute_result"
    }
   ],
   "source": [
    "\"python\".upper()"
   ]
  },
  {
   "cell_type": "code",
   "execution_count": 167,
   "id": "c9358cbd-85bf-41b2-a160-ad66f4ee30a5",
   "metadata": {},
   "outputs": [],
   "source": [
    "language =\"PYTHON\""
   ]
  },
  {
   "cell_type": "code",
   "execution_count": 169,
   "id": "8315f4ca-5b97-4472-9b49-8bde77b31ffb",
   "metadata": {},
   "outputs": [
    {
     "data": {
      "text/plain": [
       "'P'"
      ]
     },
     "execution_count": 169,
     "metadata": {},
     "output_type": "execute_result"
    }
   ],
   "source": [
    "language[0]"
   ]
  },
  {
   "cell_type": "code",
   "execution_count": 173,
   "id": "0f34b492-f87c-45b0-a5b8-7c58a7d832f5",
   "metadata": {},
   "outputs": [
    {
     "data": {
      "text/plain": [
       "'Y'"
      ]
     },
     "execution_count": 173,
     "metadata": {},
     "output_type": "execute_result"
    }
   ],
   "source": [
    "language[1]"
   ]
  },
  {
   "cell_type": "code",
   "execution_count": 175,
   "id": "22cd80ca-d8f5-4f05-8600-ac2c4dd005bd",
   "metadata": {},
   "outputs": [
    {
     "data": {
      "text/plain": [
       "'N'"
      ]
     },
     "execution_count": 175,
     "metadata": {},
     "output_type": "execute_result"
    }
   ],
   "source": [
    "language[-1]"
   ]
  },
  {
   "cell_type": "code",
   "execution_count": 177,
   "id": "4602ebfe-ba69-4084-9235-7944258f2f0a",
   "metadata": {},
   "outputs": [
    {
     "data": {
      "text/plain": [
       "'O'"
      ]
     },
     "execution_count": 177,
     "metadata": {},
     "output_type": "execute_result"
    }
   ],
   "source": [
    "language[-2]"
   ]
  },
  {
   "cell_type": "markdown",
   "id": "cb096db0-7664-44b2-9a6c-5bf5000e3011",
   "metadata": {},
   "source": [
    "## Fatiamento"
   ]
  },
  {
   "cell_type": "code",
   "execution_count": 202,
   "id": "cb32bd48-566c-4043-bb32-780a52ea6744",
   "metadata": {},
   "outputs": [
    {
     "name": "stdout",
     "output_type": "stream",
     "text": [
      "PYTHON\n"
     ]
    },
    {
     "data": {
      "text/plain": [
       "'PYT'"
      ]
     },
     "execution_count": 202,
     "metadata": {},
     "output_type": "execute_result"
    }
   ],
   "source": [
    "print(language)\n",
    "language[:3]"
   ]
  },
  {
   "cell_type": "markdown",
   "id": "4a2d4e6f-69ce-407e-8f01-9cee9103f7ce",
   "metadata": {},
   "source": [
    "language[1:3]"
   ]
  },
  {
   "cell_type": "code",
   "execution_count": 186,
   "id": "f99d00a6-4a39-47e0-8c93-4c29a33916aa",
   "metadata": {},
   "outputs": [
    {
     "data": {
      "text/plain": [
       "'HON'"
      ]
     },
     "execution_count": 186,
     "metadata": {},
     "output_type": "execute_result"
    }
   ],
   "source": [
    "language[-3:6]"
   ]
  },
  {
   "cell_type": "code",
   "execution_count": 188,
   "id": "82c2a8b6-9a14-4284-92e3-a04710d85075",
   "metadata": {},
   "outputs": [
    {
     "data": {
      "text/plain": [
       "'HO'"
      ]
     },
     "execution_count": 188,
     "metadata": {},
     "output_type": "execute_result"
    }
   ],
   "source": [
    "language[-3:-1]"
   ]
  },
  {
   "cell_type": "code",
   "execution_count": 190,
   "id": "813d18f0-7fad-4fe7-bab7-558b5d2a2a0b",
   "metadata": {},
   "outputs": [
    {
     "data": {
      "text/plain": [
       "'PTO'"
      ]
     },
     "execution_count": 190,
     "metadata": {},
     "output_type": "execute_result"
    }
   ],
   "source": [
    "language[::2]"
   ]
  },
  {
   "cell_type": "code",
   "execution_count": 192,
   "id": "8d0024b5-3e79-4fed-b77f-0c4981619424",
   "metadata": {},
   "outputs": [
    {
     "data": {
      "text/plain": [
       "'NOH'"
      ]
     },
     "execution_count": 192,
     "metadata": {},
     "output_type": "execute_result"
    }
   ],
   "source": [
    "language[-1:-4:-1]"
   ]
  },
  {
   "cell_type": "code",
   "execution_count": 196,
   "id": "fb755c54-b037-4d14-b2c7-e10dfe753931",
   "metadata": {},
   "outputs": [
    {
     "data": {
      "text/plain": [
       "'O'"
      ]
     },
     "execution_count": 196,
     "metadata": {},
     "output_type": "execute_result"
    }
   ],
   "source": [
    "language[-3:][1]"
   ]
  },
  {
   "cell_type": "markdown",
   "id": "7fe9d3dc-56c2-4a0b-83f4-203dba40fe8b",
   "metadata": {},
   "source": [
    "## Listas"
   ]
  },
  {
   "cell_type": "code",
   "execution_count": 207,
   "id": "d113642b-beaa-49c4-9f54-6c4f1b19a773",
   "metadata": {},
   "outputs": [],
   "source": [
    "file_names=[\"one.xlsx\",\"to.xlsx\",\"three.xlsx\"]\n",
    "numbers = [1,2,3]"
   ]
  },
  {
   "cell_type": "code",
   "execution_count": 211,
   "id": "5a6fdfdf-ad01-4635-b801-6baad0854ffc",
   "metadata": {},
   "outputs": [
    {
     "data": {
      "text/plain": [
       "['one.xlsx', 'to.xlsx', 'three.xlsx', 1, 2, 3]"
      ]
     },
     "execution_count": 211,
     "metadata": {},
     "output_type": "execute_result"
    }
   ],
   "source": [
    "file_names + numbers"
   ]
  },
  {
   "cell_type": "code",
   "execution_count": 213,
   "id": "6fd82cbb-b9be-4995-8dba-a671149d0583",
   "metadata": {},
   "outputs": [],
   "source": [
    "nested_list = [[1,2,3],[4,5,6],[7,8,9]]"
   ]
  },
  {
   "cell_type": "code",
   "execution_count": 219,
   "id": "42d28777-33fd-46c1-b0d8-86c3ec7dde37",
   "metadata": {},
   "outputs": [],
   "source": [
    "cells =  [[1,2,3],\n",
    "          [4,5,6],\n",
    "          [7,8,9]]"
   ]
  },
  {
   "cell_type": "code",
   "execution_count": 221,
   "id": "a07e7f00-5a8c-49fd-bbb9-d46ef337c5e0",
   "metadata": {},
   "outputs": [
    {
     "data": {
      "text/plain": [
       "[4, 5, 6]"
      ]
     },
     "execution_count": 221,
     "metadata": {},
     "output_type": "execute_result"
    }
   ],
   "source": [
    "cells[1]"
   ]
  },
  {
   "cell_type": "code",
   "execution_count": 223,
   "id": "96c4a5c0-7913-4db6-a1b2-a94a831373ac",
   "metadata": {},
   "outputs": [
    {
     "data": {
      "text/plain": [
       "[5, 6]"
      ]
     },
     "execution_count": 223,
     "metadata": {},
     "output_type": "execute_result"
    }
   ],
   "source": [
    "cells[1][1:]"
   ]
  },
  {
   "cell_type": "code",
   "execution_count": 235,
   "id": "4bb12351-d1ec-4364-b945-fc66e4e2cd32",
   "metadata": {},
   "outputs": [],
   "source": [
    "users = [\"Linda\",\"Brian\"]"
   ]
  },
  {
   "cell_type": "code",
   "execution_count": 237,
   "id": "6908d078-b264-451b-b56b-6825bdcf9a8b",
   "metadata": {},
   "outputs": [
    {
     "data": {
      "text/plain": [
       "['Linda', 'Brian', 'Jennifer']"
      ]
     },
     "execution_count": 237,
     "metadata": {},
     "output_type": "execute_result"
    }
   ],
   "source": [
    "users.append(\"Jennifer\")\n",
    "users"
   ]
  },
  {
   "cell_type": "code",
   "execution_count": 239,
   "id": "db47e904-f825-4fa2-b695-2a33c7027f7e",
   "metadata": {},
   "outputs": [
    {
     "data": {
      "text/plain": [
       "['Kim', 'Linda', 'Brian', 'Jennifer']"
      ]
     },
     "execution_count": 239,
     "metadata": {},
     "output_type": "execute_result"
    }
   ],
   "source": [
    "users.insert(0,\"Kim\")\n",
    "users"
   ]
  },
  {
   "cell_type": "code",
   "execution_count": 243,
   "id": "7928b14e-c497-4679-91d4-3d1ef022f6f0",
   "metadata": {},
   "outputs": [
    {
     "data": {
      "text/plain": [
       "['Kim', 'Linda', 'Brian']"
      ]
     },
     "execution_count": 243,
     "metadata": {},
     "output_type": "execute_result"
    }
   ],
   "source": [
    "users.pop()\n",
    "users"
   ]
  },
  {
   "cell_type": "code",
   "execution_count": 245,
   "id": "43f4ba76-2c1a-4439-8176-ab2668d25639",
   "metadata": {},
   "outputs": [
    {
     "data": {
      "text/plain": [
       "['Linda', 'Brian']"
      ]
     },
     "execution_count": 245,
     "metadata": {},
     "output_type": "execute_result"
    }
   ],
   "source": [
    "del users[0]\n",
    "users"
   ]
  },
  {
   "cell_type": "code",
   "execution_count": 247,
   "id": "33486fed-76a0-41af-90c9-5c5f01e5d6c3",
   "metadata": {},
   "outputs": [
    {
     "data": {
      "text/plain": [
       "2"
      ]
     },
     "execution_count": 247,
     "metadata": {},
     "output_type": "execute_result"
    }
   ],
   "source": [
    "len(users)"
   ]
  },
  {
   "cell_type": "code",
   "execution_count": 249,
   "id": "0c49a542-8be1-46b1-bac6-4ae68e1951b9",
   "metadata": {},
   "outputs": [
    {
     "data": {
      "text/plain": [
       "True"
      ]
     },
     "execution_count": 249,
     "metadata": {},
     "output_type": "execute_result"
    }
   ],
   "source": [
    "\"Linda\" in users"
   ]
  },
  {
   "cell_type": "code",
   "execution_count": 253,
   "id": "343c607f-d713-4879-81df-c0173b2c9288",
   "metadata": {},
   "outputs": [
    {
     "name": "stdout",
     "output_type": "stream",
     "text": [
      "['Brian', 'Linda']\n",
      "['Linda', 'Brian']\n"
     ]
    }
   ],
   "source": [
    "print(sorted(users))\n",
    "print(users)"
   ]
  },
  {
   "cell_type": "code",
   "execution_count": 255,
   "id": "7abab3a7-58cf-416a-a1e9-d1dad28cb17a",
   "metadata": {},
   "outputs": [
    {
     "data": {
      "text/plain": [
       "['Brian', 'Linda']"
      ]
     },
     "execution_count": 255,
     "metadata": {},
     "output_type": "execute_result"
    }
   ],
   "source": [
    "users.sort()\n",
    "users"
   ]
  },
  {
   "cell_type": "code",
   "execution_count": 257,
   "id": "5a70856a-a087-48a6-8070-0a2d9b531d40",
   "metadata": {},
   "outputs": [
    {
     "data": {
      "text/plain": [
       "6"
      ]
     },
     "execution_count": 257,
     "metadata": {},
     "output_type": "execute_result"
    }
   ],
   "source": [
    "len(\"Python\")"
   ]
  },
  {
   "cell_type": "code",
   "execution_count": 259,
   "id": "bdb81aac-d6fa-4181-9982-0a3930c602fb",
   "metadata": {},
   "outputs": [
    {
     "data": {
      "text/plain": [
       "True"
      ]
     },
     "execution_count": 259,
     "metadata": {},
     "output_type": "execute_result"
    }
   ],
   "source": [
    "\"free\" in \"Python is free and open source\""
   ]
  },
  {
   "cell_type": "code",
   "execution_count": null,
   "id": "a11ceaad-99a2-42a3-b8ca-89316a682e46",
   "metadata": {},
   "outputs": [],
   "source": []
  }
 ],
 "metadata": {
  "kernelspec": {
   "display_name": "Python 3 (ipykernel)",
   "language": "python",
   "name": "python3"
  },
  "language_info": {
   "codemirror_mode": {
    "name": "ipython",
    "version": 3
   },
   "file_extension": ".py",
   "mimetype": "text/x-python",
   "name": "python",
   "nbconvert_exporter": "python",
   "pygments_lexer": "ipython3",
   "version": "3.12.4"
  }
 },
 "nbformat": 4,
 "nbformat_minor": 5
}
